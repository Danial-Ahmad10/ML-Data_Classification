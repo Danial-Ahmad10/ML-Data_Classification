{
 "cells": [
  {
   "cell_type": "code",
   "execution_count": 3,
   "metadata": {},
   "outputs": [],
   "source": [
    "import matplotlib.pyplot as plt\n",
    "import numpy as np\n",
    "import matplotlib.patches as mpatches"
   ]
  },
  {
   "cell_type": "code",
   "execution_count": 4,
   "metadata": {},
   "outputs": [],
   "source": [
    "#Postive examples\n",
    "positive_x = np.random.uniform(low= 1, high= 3, size=(8, 1))\n",
    "positive_y = np.random.uniform(low= 1, high= 3, size=(8, 1))\n",
    "\n",
    "#Negative Examples\n",
    "#we divide negative examples into 4 coordinates, so that postive examples will remain in the middle\n",
    "\n",
    "#Left\n",
    "negative_left_x = np.random.uniform(low= 0, high= 1, size=(6, 1))\n",
    "negative_left_y = np.random.uniform(low= 1, high= 3, size=(6, 1))\n",
    "#Right\n",
    "negative_right_x = np.random.uniform(low= 3, high= 5, size=(6, 1))\n",
    "negative_right_y = np.random.uniform(low= 1, high= 3, size=(6, 1))\n",
    "#Top\n",
    "negative_top_x = np.random.uniform(low= 1, high= 3, size=(6, 1))\n",
    "negative_top_y = np.random.uniform(low= 3, high= 5, size=(6, 1))\n",
    "#Bottom\n",
    "negative_bottom_x = np.random.uniform(low= 1, high= 3, size=(6, 1))\n",
    "negative_bottom_y = np.random.uniform(low= 0, high= 1, size=(6, 1))"
   ]
  },
  {
   "cell_type": "code",
   "execution_count": 5,
   "metadata": {},
   "outputs": [],
   "source": [
    "#Arranging points for classifying specific class\n",
    "#Boundry Points for Specific class\n",
    "left_x_s = positive_x.min()\n",
    "right_x_s = positive_x.max()\n",
    "top_y_s = positive_y.max()\n",
    "bottom_y_s = positive_y.min()\n",
    "\n",
    "#Calculating Width and Height of Specific\n",
    "width_s = right_x_s - left_x_s\n",
    "height_s = top_y_s - bottom_y_s\n",
    "\n",
    "#Calculating Width and Height of General\n",
    "left_x_g = negative_left_x.max()\n",
    "right_x_g = negative_right_x.min()\n",
    "top_y_g = negative_top_y.min()\n",
    "bottom_y_g = negative_bottom_y.max()\n",
    "\n",
    "#Calculating Width and Height for General\n",
    "width_g = right_x_g - left_x_g\n",
    "height_g = top_y_g - bottom_y_g"
   ]
  },
  {
   "cell_type": "code",
   "execution_count": 6,
   "metadata": {},
   "outputs": [
    {
     "data": {
      "text/plain": [
       "<matplotlib.legend.Legend at 0x1eeaed71870>"
      ]
     },
     "execution_count": 6,
     "metadata": {},
     "output_type": "execute_result"
    },
    {
     "data": {
      "image/png": "[encoded data removed]",
      "text/plain": [
       "<Figure size 640x480 with 1 Axes>"
      ]
     },
     "metadata": {},
     "output_type": "display_data"
    }
   ],
   "source": [
    "#Plotting Specific Rectangle\n",
    "rect_c = mpatches.Rectangle((1,1),2,2,\n",
    "                        fill = False,\n",
    "                        color = \"blue\",\n",
    "                        label=\"Class\",\n",
    "                        linewidth = 1)\n",
    "rect_s = mpatches.Rectangle((left_x_s,bottom_y_s),width_s, height_s,\n",
    "                        fill = False,\n",
    "                        color = \"red\",\n",
    "                        label=\"Specific\",\n",
    "                        linewidth = 1)\n",
    "rect_g = mpatches.Rectangle((left_x_g,bottom_y_g),width_g, height_g,\n",
    "                        fill = False,\n",
    "                        color = \"green\",\n",
    "                        label=\"General\",\n",
    "                        linewidth = 1)\n",
    "\n",
    "plt.gca().add_patch(rect_c)\n",
    "plt.gca().add_patch(rect_s)\n",
    "plt.gca().add_patch(rect_g)\n",
    "\n",
    "#Plotting values\n",
    "plt.scatter(positive_x, positive_y, color = 'red', label ='positive', marker = '+', linewidths= 2)\n",
    "plt.scatter(negative_left_x, negative_left_y, color = 'blue', label = 'negative', marker = '_', linewidths= 2)\n",
    "plt.scatter(negative_right_x, negative_right_y, color = 'blue' , marker = '_', linewidths= 2)\n",
    "plt.scatter(negative_top_x, negative_top_y, color = 'blue' , marker = '_', linewidths= 2)\n",
    "plt.scatter(negative_bottom_x, negative_bottom_y, color = 'blue' , marker = '_', linewidths= 2)\n",
    "\n",
    "plt.legend()"
   ]
  }
 ],
 "metadata": {
  "kernelspec": {
   "display_name": "MyFirstEnv",
   "language": "python",
   "name": "python3"
  },
  "language_info": {
   "codemirror_mode": {
    "name": "ipython",
    "version": 3
   },
   "file_extension": ".py",
   "mimetype": "text/x-python",
   "name": "python",
   "nbconvert_exporter": "python",
   "pygments_lexer": "ipython3",
   "version": "3.10.12"
  },
  "orig_nbformat": 4
 },
 "nbformat": 4,
 "nbformat_minor": 2
}
